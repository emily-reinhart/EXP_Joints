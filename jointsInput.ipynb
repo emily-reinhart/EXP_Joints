{
 "cells": [
  {
   "cell_type": "code",
   "execution_count": null,
   "metadata": {},
   "outputs": [],
   "source": [
    "import xlrd\n",
    "from decimal import Decimal\n",
    "import pandas as pd"
   ]
  },
  {
   "cell_type": "code",
   "execution_count": null,
   "metadata": {
    "scrolled": true
   },
   "outputs": [],
   "source": [
    "# load excel file with data\n",
    "# loc = \".\\\\data.xlsm\"\n",
    "loc = \".\\\\\" + input(\"Please enter file name with file type extension: \")\n",
    "\n",
    "wb = xlrd.open_workbook(loc)\n",
    "# sheet = wb.sheet_by_index(0)"
   ]
  },
  {
   "cell_type": "code",
   "execution_count": null,
   "metadata": {},
   "outputs": [],
   "source": [
    "# ask user for pairs they want to search\n",
    "pairsInput = input('Type in pairs to evaluate, separate each number with a comma. Ex. 120,130,140,150')\n",
    "\n",
    "inputList = pairsInput.split(',')\n",
    "pairsList = []\n",
    "\n",
    "for x in range(0,len(inputList)-1,2):\n",
    "  pairsList.append([inputList[x], inputList[x+1]])  "
   ]
  },
  {
   "cell_type": "code",
   "execution_count": null,
   "metadata": {},
   "outputs": [],
   "source": [
    "# print(sheet.cell_value(6,0), sheet.cell_value(6,1), sheet.cell_value(6,2), sheet.cell_value(6,3), sheet.cell_value(6,4), sheet.cell_value(6,5), sheet.cell_value(6,6))\n",
    "\n",
    "newTable = []\n",
    "\n",
    "tableColumns = sheet.row_values(6,0,7)\n",
    "\n",
    "for pair in pairsList:\n",
    "    for sheet in wb.sheets():\n",
    "        # print(sheet.row_values(6,0,7))\n",
    "        for row_num in range(9,sheet.nrows,1):\n",
    "                row_value = sheet.row_values(row_num,0,7)\n",
    "                if row_value[0] == int(pair[0]):\n",
    "                    #print(row_value)\n",
    "                    row1 = row_value\n",
    "                if row_value[0] == int(pair[1]):\n",
    "                    #print(row_value)\n",
    "                    row2 = row_value\n",
    "\n",
    "        # print(row1, row1[4], row2[4], ((row1[4]) - (row2[4])))\n",
    "        separator = ' - '\n",
    "        newRow = [separator.join(pair),(row1[1]-row2[1]),(row1[2]-row2[2]),(row1[3]-row2[3]),(row1[4]-row2[4]),(row1[5]-row2[5]),(row1[6]-row2[6])]\n",
    "        # print(newRow)\n",
    "        newTable.append(newRow)\n",
    "    \n",
    "# print(newTable)\n",
    "pd.DataFrame(newTable, columns=tableColumns)"
   ]
  }
 ],
 "metadata": {
  "kernelspec": {
   "display_name": "Python 3",
   "language": "python",
   "name": "python3"
  },
  "language_info": {
   "codemirror_mode": {
    "name": "ipython",
    "version": 3
   },
   "file_extension": ".py",
   "mimetype": "text/x-python",
   "name": "python",
   "nbconvert_exporter": "python",
   "pygments_lexer": "ipython3",
   "version": "3.7.3"
  }
 },
 "nbformat": 4,
 "nbformat_minor": 2
}
